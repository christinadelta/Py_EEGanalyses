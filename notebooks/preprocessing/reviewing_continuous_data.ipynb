{
 "cells": [
  {
   "cell_type": "code",
   "execution_count": null,
   "metadata": {},
   "outputs": [],
   "source": [
    "%matplotlib inline"
   ]
  },
  {
   "cell_type": "code",
   "execution_count": null,
   "metadata": {},
   "outputs": [],
   "source": [
    "# import libraries \n",
    "import os\n",
    "import numpy as np\n",
    "import matplotlib.pyplot as plt\n",
    "import mne"
   ]
  },
  {
   "cell_type": "markdown",
   "metadata": {},
   "source": [
    "### Load the data \n",
    "\n",
    "Given that the data is in .fif format (MEG data obtained from a NEUROMAG scanner), the ```mne.io.read_raw_fif()``` function will be used \n",
    "\n",
    "The ```mne.io.read_raw_*``` functions do not load the data into memory automatically, but some operations such as filtering require that data be copied into RAM. To do that we can either use the ```preload=True``` argument or we can later load the raw in RAM using the ```load_data()``` method."
   ]
  },
  {
   "cell_type": "code",
   "execution_count": null,
   "metadata": {},
   "outputs": [],
   "source": [
    "sample_data_folder = '/Users/christinadelta/datasets/eeg_testing_data'\n",
    "sample_data_raw_file = os.path.join(sample_data_folder, 'MEG', 'sample',\n",
    "                                    'sample_audvis_raw.fif')\n",
    "raw = mne.io.read_raw_fif(sample_data_raw_file)\n",
    "\n",
    "raw.crop(tmax=60).load_data() # we'll use the 60 sec of the data for now "
   ]
  },
  {
   "cell_type": "markdown",
   "metadata": {},
   "source": [
    "We load the raw data in a **Raw object**. There are several ways to look at the data, but let's use the **Info object**"
   ]
  },
  {
   "cell_type": "code",
   "execution_count": null,
   "metadata": {},
   "outputs": [],
   "source": [
    "print(raw)"
   ]
  },
  {
   "cell_type": "code",
   "execution_count": null,
   "metadata": {},
   "outputs": [],
   "source": [
    "# or a simple way to look at channel names by using an attribute \n",
    "raw.ch_names"
   ]
  },
  {
   "cell_type": "markdown",
   "metadata": {},
   "source": [
    "We can look at more detail information:"
   ]
  },
  {
   "cell_type": "code",
   "execution_count": null,
   "metadata": {},
   "outputs": [],
   "source": [
    "data_info = mne.io.read_info(sample_data_raw_file)"
   ]
  },
  {
   "cell_type": "markdown",
   "metadata": {},
   "source": [
    "Get more specific info from the the **data_info** object"
   ]
  },
  {
   "cell_type": "code",
   "execution_count": null,
   "metadata": {},
   "outputs": [],
   "source": [
    "print(data_info.keys())"
   ]
  },
  {
   "cell_type": "markdown",
   "metadata": {},
   "source": [
    "We can also extract data from specific keys of the **data_info** dict"
   ]
  },
  {
   "cell_type": "code",
   "execution_count": null,
   "metadata": {},
   "outputs": [],
   "source": [
    "print(data_info['nchan'])\n",
    "print() # insert blank line\n",
    "print(data_info['chs'][0].keys())"
   ]
  },
  {
   "cell_type": "markdown",
   "metadata": {},
   "source": [
    "### Get more info about the channels \n",
    "\n",
    "We can use the info obejct to obtain subsets of the channels. To work with channels, we can use two different functions: ```mne.pick_channels()``` or ```mne.pick_types```. ```mne.pick_channels()``` manually picks all the channels thus we should specify what to include or exclude:"
   ]
  },
  {
   "cell_type": "code",
   "execution_count": null,
   "metadata": {},
   "outputs": [],
   "source": [
    "print(mne.pick_channels(data_info['ch_names'], include = ['MEG 0312', 'EEG 005']))"
   ]
  },
  {
   "cell_type": "code",
   "execution_count": null,
   "metadata": {},
   "outputs": [],
   "source": [
    "# or we can use:\n",
    "print(mne.pick_channels(data_info['ch_names'], include = [],\n",
    "                       exclude = ['MEG 0312', 'EEG 005']))"
   ]
  },
  {
   "cell_type": "markdown",
   "metadata": {},
   "source": [
    "```mne.pick_types()``` is different. It is actually more handy, given that you give a boolean type argument for the channel type "
   ]
  },
  {
   "cell_type": "code",
   "execution_count": null,
   "metadata": {},
   "outputs": [],
   "source": [
    "print(mne.pick_types(data_info, meg=False, eeg=True, exclude=[])) # select only eeg channels"
   ]
  },
  {
   "cell_type": "markdown",
   "metadata": {},
   "source": [
    "#### We can select, drop or re-order channels in several ways using both of the aboove types:"
   ]
  },
  {
   "cell_type": "code",
   "execution_count": null,
   "metadata": {},
   "outputs": [],
   "source": [
    "raw_temp = raw.copy() # create a temp raw file to play around with the channels \n",
    "\n",
    "# get only the eeg and eog channels\n",
    "eeg_and_eog = raw_temp.pick_types(meg=False, eeg=True, eog=True) \n",
    "print(eeg_and_eog)"
   ]
  },
  {
   "cell_type": "code",
   "execution_count": null,
   "metadata": {},
   "outputs": [],
   "source": [
    "print(len(raw.ch_names), '-', len(eeg_and_eog.ch_names)) # see differences in raw and raw_temp"
   ]
  },
  {
   "cell_type": "code",
   "execution_count": null,
   "metadata": {},
   "outputs": [],
   "source": [
    "print('Number of channels in raw_temp:')\n",
    "print(len(raw_temp.ch_names), end = ' → drop two → ')\n",
    "#raw_temp.drop_channels(['EEG 037', 'EEG 059'])\n",
    "print(len(raw_temp.ch_names), end=' → pick three → ')\n",
    "raw_temp.pick_channels(['MEG 1811', 'EEG 017', 'EOG 061'])\n",
    "print(len(raw_temp.ch_names))"
   ]
  },
  {
   "cell_type": "markdown",
   "metadata": {},
   "source": [
    "### More ways to extract information from the Raw object\n",
    "\n",
    "Use the ```Raw.info``` atribbute. This is very much like the the Info object from above. To extract information from the raw obejct we just use: ```raw.``` and the attribute we need:"
   ]
  },
  {
   "cell_type": "code",
   "execution_count": null,
   "metadata": {},
   "outputs": [],
   "source": [
    "ntime_samples = raw.n_times \n",
    "print(ntime_samples)\n",
    "\n",
    "time_insecs = raw.times\n",
    "print(time_insecs)\n",
    "\n",
    "time_insecs.shape # look at the shape of the time attribute. This shows the time points \n",
    "\n",
    "ch_names = raw.ch_names\n",
    "n_chan = len(ch_names) # to look at the number of chnnels \n",
    "print(n_chan)\n",
    "\n",
    "print('the (cropped) sample data object has {} time samples and {} channels.'\n",
    "      ''.format(ntime_samples, n_chan))\n",
    "\n",
    "print('The last time sample is at {} seconds.'.format(time_insecs[-1]))\n",
    "print('The first few channel names are {}.'.format(', '.join(ch_names[:3])))\n",
    "print()  # insert a blank line in the output"
   ]
  },
  {
   "cell_type": "code",
   "execution_count": null,
   "metadata": {},
   "outputs": [],
   "source": [
    "# some examples of raw.info attribute\n",
    "print('bad channels:', raw.info['bads']) # channels that are considered bad\n",
    "print(raw.info['sfreq'], 'Hz') # sampling freq\n",
    "print(raw.info['description']) # misc acquisition info"
   ]
  },
  {
   "cell_type": "code",
   "execution_count": null,
   "metadata": {},
   "outputs": [],
   "source": [
    "# or look at the .info atribute:\n",
    "print(raw.info)\n",
    "\n",
    "# or..\n",
    "\n",
    "print(raw.info.keys()) # to print only the keys (given that the raw type object is like a dict)"
   ]
  },
  {
   "cell_type": "markdown",
   "metadata": {},
   "source": [
    "### Time and sample number \n",
    "\n",
    "One method of Raw object that is frequently used is the ```time_as_index()``` , which converts a time (in seconds) into the integer index of the sample occurring closest to that time.\n",
    "\n",
    "It is important to remember that there may not be a data sample at *exactly* the time requested, so the number of samples between ``time = 1`` second and ``time = 2`` seconds may be different than the number of samples between ``time = 2`` and ``time = 3``:"
   ]
  },
  {
   "cell_type": "code",
   "execution_count": null,
   "metadata": {},
   "outputs": [],
   "source": [
    "print(raw.time_as_index(20))\n",
    "print(raw.time_as_index([20, 30, 40]), '\\n')\n",
    "\n",
    "print(np.diff(raw.time_as_index([1, 2, 3])))"
   ]
  },
  {
   "cell_type": "markdown",
   "metadata": {},
   "source": [
    "### The raw object \n",
    "\n",
    "Raw obejct behaves as a .np array of shape (n_channels, n_timepoints), however ```len()``` with Raw behaves differently. It returns only the timepoints "
   ]
  },
  {
   "cell_type": "code",
   "execution_count": null,
   "metadata": {},
   "outputs": [],
   "source": [
    "print(len(raw))\n",
    "\n",
    "# to get the channels:\n",
    "print(len(raw.ch_names))"
   ]
  },
  {
   "cell_type": "markdown",
   "metadata": {},
   "source": [
    "### Working with the time domain \n",
    "\n",
    "We can crop the raw object if we want to limit its time domain. I cropped the raw object in the beggining to 60sec using the ```crop()``` method, however crop uses many parameteres... "
   ]
  },
  {
   "cell_type": "code",
   "execution_count": null,
   "metadata": {},
   "outputs": [],
   "source": [
    "raw_selected = raw.copy().crop(tmin=10, tmax=12.5)\n",
    "print(raw_selected)"
   ]
  },
  {
   "cell_type": "markdown",
   "metadata": {},
   "source": [
    "I used the copy method to create. a new instance of the already cropped (to 60sec) raw object and then cropped it to 2.5 sec (from 10 to 12.5 secs)"
   ]
  },
  {
   "cell_type": "code",
   "execution_count": null,
   "metadata": {},
   "outputs": [],
   "source": [
    "print(raw_selected.times.min(), raw_selected.times.max())\n",
    "raw_selected.crop(tmin=1)\n",
    "print(raw_selected.times.min(), raw_selected.times.max())"
   ]
  },
  {
   "cell_type": "markdown",
   "metadata": {},
   "source": [
    "##### we can also combine or concatinate seperate parts of the raw object "
   ]
  },
  {
   "cell_type": "code",
   "execution_count": null,
   "metadata": {},
   "outputs": [],
   "source": [
    "raw_selected1 = raw.copy().crop(tmin=30, tmax= 30.2) # 0.2 sec\n",
    "raw_selected2 = raw.copy().crop(tmin=40, tmax= 41.2) # 1.2 sec\n",
    "raw_selected3 = raw.copy().crop(tmin=50, tmax= 51.3) # 1.3 sec\n",
    "# combine the above parts\n",
    "raw_selected1.append([raw_selected2, raw_selected3]) # 2.7 sec in total \n",
    "print(raw_selected1.times.min(), raw_selected1.times.max())"
   ]
  },
  {
   "cell_type": "markdown",
   "metadata": {},
   "source": [
    "### Extract and plot data from the Raw object\n",
    "Extracting sections from the Raw object into a .np array for analysis or plotting:"
   ]
  },
  {
   "cell_type": "code",
   "execution_count": null,
   "metadata": {},
   "outputs": [],
   "source": [
    "sampling_freq = raw.info['sfreq']\n",
    "start_stop_sec = np.array([11, 13])\n",
    "start_sample, stop_sample = (start_stop_sec * sampling_freq).astype(int)\n",
    "channel_index = 0\n",
    "raw_selection = raw[channel_index, start_sample:stop_sample]\n",
    "\n",
    "print(raw_selection) # this is a tupple containing 2 arrays "
   ]
  },
  {
   "cell_type": "code",
   "execution_count": null,
   "metadata": {},
   "outputs": [],
   "source": [
    "# now plot the two arrays of the tupple as x and y\n",
    "x = raw_selection[1]\n",
    "y = raw_selection[0].T \n",
    "plt.plot(x,y)"
   ]
  },
  {
   "cell_type": "markdown",
   "metadata": {},
   "source": [
    "### Events \n",
    "\n",
    "Events are stored in trigger channel or channels. We can look at the events using the ```mne.find_events()``` method"
   ]
  },
  {
   "cell_type": "code",
   "execution_count": null,
   "metadata": {},
   "outputs": [],
   "source": [
    "events = mne.find_events(raw, stim_channel ='STI 014')"
   ]
  },
  {
   "cell_type": "markdown",
   "metadata": {},
   "source": [
    "### Read events and save to a file\n",
    "\n",
    "events are better be stored in an np array, that way they can be easily saved as .npy files"
   ]
  },
  {
   "cell_type": "code",
   "execution_count": null,
   "metadata": {},
   "outputs": [],
   "source": [
    "sample_data_events_file = os.path.join(sample_data_folder, 'MEG', 'sample',\n",
    "                                       'sample_audvis_raw-eve.fif')\n",
    "events_from_file = mne.read_events(sample_data_events_file)\n",
    "assert np.array_equal(events, events_from_file[:len(events)])"
   ]
  },
  {
   "cell_type": "code",
   "execution_count": null,
   "metadata": {},
   "outputs": [],
   "source": [
    "print(events_from_file.shape) # in raw datafile the shape of the events file is 320x3"
   ]
  },
  {
   "cell_type": "markdown",
   "metadata": {},
   "source": [
    "Now are events are stored in an npy file that can be easily manipulated, reshaped and so on..\n",
    "\n",
    "#### subselect and combine events \n",
    "\n",
    "There are several functions to manipulate events such as: ```pick_events()```, ```read_events```, and they have **include** and **exclude** parameters just like the in channel manipulation. I'll use the ```pick_events()``` method to subselect events not needed. The event type 32 for example (corresponds to buttonpress)"
   ]
  },
  {
   "cell_type": "code",
   "execution_count": null,
   "metadata": {},
   "outputs": [],
   "source": [
    "events_withoutbutton = mne.pick_events(events, exclude = 32)\n",
    "\n",
    "# now merge the event IDs 1, 2, 3 into one event labelad as 1:\n",
    "merged_events = mne.merge_events(events, [1, 2, 3], 1)\n",
    "print(np.unique(merged_events[:, -1]))"
   ]
  },
  {
   "cell_type": "markdown",
   "metadata": {},
   "source": [
    "### Now I need to map the events to trial types \n",
    "\n",
    "Which events type (trigger nb) corresponds to which trial type orexperimental condition? This experiment had 5 conditions. \n",
    "\n",
    "We used these dictionaries for epoch extraction from the continuous data. "
   ]
  },
  {
   "cell_type": "code",
   "execution_count": null,
   "metadata": {},
   "outputs": [],
   "source": [
    "# Create events dict with the key-conditions and their corresponding values:\n",
    "event_dict = {'auditory/left': 1, 'auditory/right': 2, 'visual/left': 3,\n",
    "              'visual/right': 4, 'smiley': 5, 'buttonpress': 32}\n",
    "\n",
    "# check the dict\n",
    "print(event_dict.keys())\n",
    "print(event_dict.values())"
   ]
  },
  {
   "cell_type": "markdown",
   "metadata": {},
   "source": [
    "The ```/``` that separates two keys is used as **partial condition descriptor**. For example if we request the auditory event, we get two IDs (1, 2 for left and right)\n",
    "\n",
    "Let's plot events to vidualise their frequency, duration and do make sure that all is as expected"
   ]
  },
  {
   "cell_type": "code",
   "execution_count": null,
   "metadata": {},
   "outputs": [],
   "source": [
    "events_fig = mne.viz.plot_events(events, event_id = event_dict, sfreq = None,\n",
    "                                first_samp = raw.first_samp)\n",
    "'''\n",
    "events_fig = mne.viz.plot_events(events, event_id = event_dict, sfreq = raw.info['sfreq'],\n",
    "                                first_samp = raw.first_samp)'''"
   ]
  },
  {
   "cell_type": "markdown",
   "metadata": {},
   "source": [
    "The ```sfreq``` parameter refers to the sample frequency. If this is none, then data is displayed in samples (not seconds). \n",
    "The parameter ```first_samp```is the index of the first sample. Recordings made in a MEG neuromag system count samples relative to the system start not to the start of the recording. In such cases the ```raw.first_samp``` is better to be passsed here. Default is zero.\n",
    "\n",
    "#### Plot events and raw data together "
   ]
  },
  {
   "cell_type": "code",
   "execution_count": null,
   "metadata": {},
   "outputs": [],
   "source": [
    "# use the raw.plot method to plot events and eeg raw data together \n",
    "raw.plot(events=events, start=5, duration = 10, color='gray',\n",
    "        event_color = {1:'r', 2: 'g', 3: 'b', 4: 'm', 5: 'y', 32: 'k'})"
   ]
  },
  {
   "cell_type": "markdown",
   "metadata": {},
   "source": [
    "### Annotate the continuous data\n",
    "\n",
    "Anotations are a way of storing strings of info about the temporal spans of the Raw object. They are list-like obejcts with three pieces: \n",
    "* onset time (in secs)\n",
    "* duration (in secs)\n",
    "* description (text)\n",
    "* orig_time (time of the first sample)\n",
    "\n",
    "Here, I won't add orig_time (leave it as None) when creating the annotations list, and by default it is assumed that orig_time is the first sample element in the raw obejct. \n",
    "\n",
    "I will add it afterwards:"
   ]
  },
  {
   "cell_type": "code",
   "execution_count": null,
   "metadata": {},
   "outputs": [],
   "source": [
    "annotations = mne.Annotations(onset=[3,5,7],\n",
    "                             duration = [1, 0.5, 0.25],\n",
    "                             description = ['aaa', 'bbb', 'ccc'])\n",
    "\n",
    "print(annotations)\n",
    "\n",
    "raw.set_annotations(annotations)\n",
    "print(raw.annotations)\n",
    "\n",
    "# now convert date (a tuple of secs and microsecs) into float and add as orig_time\n",
    "meas_date = raw.info['meas_date']\n",
    "orig_time = raw.annotations.orig_time\n",
    "\n",
    "print(orig_time)\n",
    "print(meas_date)\n",
    "print(meas_date == orig_time)"
   ]
  },
  {
   "cell_type": "markdown",
   "metadata": {},
   "source": [
    "### Plot the raw data in several ways\n",
    "\n",
    "interacting data browsing with raw.plot()"
   ]
  },
  {
   "cell_type": "code",
   "execution_count": null,
   "metadata": {},
   "outputs": [],
   "source": [
    "raw.plot() # use left, right, up and down keys to inspect the recording"
   ]
  },
  {
   "cell_type": "code",
   "execution_count": null,
   "metadata": {},
   "outputs": [],
   "source": [
    "# plot sepctral density of the continuous data (frequency content of the data)\n",
    "raw.plot_psd(average=True)"
   ]
  },
  {
   "cell_type": "code",
   "execution_count": null,
   "metadata": {},
   "outputs": [],
   "source": [
    "# or plot Psd for every sensor \n",
    "raw.plot_psd_topo()"
   ]
  },
  {
   "cell_type": "code",
   "execution_count": null,
   "metadata": {},
   "outputs": [],
   "source": []
  }
 ],
 "metadata": {
  "kernelspec": {
   "display_name": "Python 3",
   "language": "python",
   "name": "python3"
  },
  "language_info": {
   "codemirror_mode": {
    "name": "ipython",
    "version": 3
   },
   "file_extension": ".py",
   "mimetype": "text/x-python",
   "name": "python",
   "nbconvert_exporter": "python",
   "pygments_lexer": "ipython3",
   "version": "3.7.7"
  }
 },
 "nbformat": 4,
 "nbformat_minor": 4
}
