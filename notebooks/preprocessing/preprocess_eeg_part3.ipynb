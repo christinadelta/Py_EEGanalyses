{
 "cells": [
  {
   "cell_type": "code",
   "execution_count": null,
   "metadata": {},
   "outputs": [],
   "source": [
    "# import libraries \n",
    "import os\n",
    "import numpy as np\n",
    "import matplotlib.pyplot as plt\n",
    "import mne\n",
    "\n",
    "%matplotlib inline"
   ]
  },
  {
   "cell_type": "code",
   "execution_count": null,
   "metadata": {},
   "outputs": [],
   "source": [
    "# load the data \n",
    "\n",
    "sample_data_folder = '/Users/christinadelta/datasets/eeg_testing_data'\n",
    "sample_data_raw_file = os.path.join(sample_data_folder, 'MEG', 'sample',\n",
    "                                    'sample_audvis_raw.fif')\n",
    "raw = mne.io.read_raw_fif(sample_data_raw_file, preload=True)\n",
    "\n",
    "raw.crop(0, 60).load_data() # we'll use the 60 sec of the data for now and load to memory\n",
    "\n",
    "# load events\n",
    "# events_file = os.path.join(sample_data_folder, 'MEG', 'sample',\n",
    "#                                       'sample_audvis_raw-eve.fif')\n",
    "# events = mne.read_events(events_file)\n",
    "\n",
    "# keep only eeg channels \n",
    "raw.pick(['EEG 0{:02}'.format(n) for n in range(41,60)])"
   ]
  },
  {
   "cell_type": "markdown",
   "metadata": {},
   "source": [
    "### Set or change the refernce channel \n",
    "\n",
    "If a scalp electrode was used as reference but was not saved with the raw data we need to add it back to the dataset before re-referencing. \n",
    "\n",
    "For example if **Fp1** was used as reference but it wasn't included in the data file, we need to add back **Fp1** as a flat channel prior to re-referencing using the ```add_reference_channels()``` method. Here, since the electrodes are not set according to the 10-20 or 10-10 system but ar numbered instead, ```EEE_999``` is added as the missing reference and then sets the reference to ```EEG_050```.  "
   ]
  },
  {
   "cell_type": "code",
   "execution_count": null,
   "metadata": {},
   "outputs": [],
   "source": [
    "# use a single channel reference (left earlobe)\n",
    "# raw.set_eeg_reference(ref_channels=['A1'])\n",
    "\n",
    "# use average of mastoid channels as reference\n",
    "# raw.set_eeg_reference(ref_channels=['M1', 'M2'])\n",
    "\n",
    "# plot the raw \n",
    "raw.plot() "
   ]
  },
  {
   "cell_type": "code",
   "execution_count": null,
   "metadata": {},
   "outputs": [],
   "source": [
    "# add new reference channel (flat). By default mne.add_reference_channels() createds a copy of the data. \n",
    "# If we want to alter the raw itself, add parameter: copy=False\n",
    "raw_newref = mne.add_reference_channels(raw, ref_channels=['EEG 999'])\n",
    "raw_newref.plot()"
   ]
  },
  {
   "cell_type": "code",
   "execution_count": null,
   "metadata": {},
   "outputs": [],
   "source": [
    "# set reference to EEG_050\n",
    "raw_newref.set_eeg_reference(ref_channels=['EEG 050'])\n",
    "raw_newref.plot()"
   ]
  },
  {
   "cell_type": "markdown",
   "metadata": {},
   "source": [
    "Two things to notice:\n",
    "1. The **EEG 050** electrode is flat (all zeros), while the former reference (EEG 999) now has non-zero values \n",
    "2. The **EEG 053** bad channel is not affected by the re-referencing \n",
    "\n",
    "### Set average reference instead (especially in cases of source modelling) \n",
    "\n",
    "NOTE: this will not affect the channels marked as bad, nor will it include bad channels when computing the average, but it affects the Raw object, so make a copy first"
   ]
  },
  {
   "cell_type": "code",
   "execution_count": null,
   "metadata": {},
   "outputs": [],
   "source": [
    "# use the average of all channels as reference\n",
    "raw_avg_ref = raw.copy().set_eeg_reference(ref_channels='average')\n",
    "raw_avg_ref.plot()"
   ]
  },
  {
   "cell_type": "code",
   "execution_count": null,
   "metadata": {},
   "outputs": [],
   "source": [
    "# create the average reference as projector (highly recommended)\n",
    "raw.set_eeg_reference('average', projection =True)\n",
    "print(raw.info['projs'])\n",
    "\n",
    "# visualise original reference and average with projector to look at differences and advantages of 'averaging'\n",
    "for title, proj in zip(['Original', 'Average'], [False, True]):\n",
    "    fig = raw.plot(proj=proj, n_channels=len(raw))\n",
    "    # make room for title\n",
    "    fig.subplots_adjust(top=0.9)\n",
    "    fig.suptitle('{} reference'.format(title), size='xx-large', weight='bold')"
   ]
  },
  {
   "cell_type": "code",
   "execution_count": null,
   "metadata": {},
   "outputs": [],
   "source": []
  }
 ],
 "metadata": {
  "kernelspec": {
   "display_name": "Python 3",
   "language": "python",
   "name": "python3"
  },
  "language_info": {
   "codemirror_mode": {
    "name": "ipython",
    "version": 3
   },
   "file_extension": ".py",
   "mimetype": "text/x-python",
   "name": "python",
   "nbconvert_exporter": "python",
   "pygments_lexer": "ipython3",
   "version": "3.7.7"
  }
 },
 "nbformat": 4,
 "nbformat_minor": 4
}
