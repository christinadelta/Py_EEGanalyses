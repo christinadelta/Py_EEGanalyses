{
 "cells": [
  {
   "cell_type": "markdown",
   "metadata": {},
   "source": [
    "### Run ICA \n",
    "\n",
    "A tip that I found throuth the MNE webpage: \n",
    "To tun an ICA equivalent to EEGLab's ```runica()``` with ```'pca', n``` options to reduce dimensionality via PCA before running the ICA algorithm, I need to set ```n_components=n``` during initialization and pass ```n_pca_components=n``` to ```apply()``` method.\n"
   ]
  },
  {
   "cell_type": "code",
   "execution_count": null,
   "metadata": {},
   "outputs": [],
   "source": [
    "# import libraries \n",
    "import os\n",
    "import numpy as np\n",
    "import matplotlib.pyplot as plt\n",
    "import mne\n",
    "from mne.preprocessing import (ICA, create_eog_epochs, create_ecg_epochs, corrmap)\n",
    "\n",
    "%matplotlib inline\n"
   ]
  },
  {
   "cell_type": "code",
   "execution_count": null,
   "metadata": {},
   "outputs": [],
   "source": [
    "# load the data \n",
    "\n",
    "sample_data_folder = '/Users/christinadelta/datasets/eeg_testing_data'\n",
    "sample_data_raw_file = os.path.join(sample_data_folder, 'MEG', 'sample',\n",
    "                                    'sample_audvis_raw.fif')\n",
    "raw = mne.io.read_raw_fif(sample_data_raw_file)\n",
    "# raw = mne.io.read_raw_fif(sample_data_raw_file, preload=True)\n",
    "\n",
    "raw.crop(0, 60).load_data() # we'll use the 60 sec of the data for now and load to memory\n",
    "\n",
    "# load events\n",
    "events_file = os.path.join(sample_data_folder, 'MEG', 'sample',\n",
    "                                       'sample_audvis_raw-eve.fif')\n",
    "events = mne.read_events(events_file)"
   ]
  },
  {
   "cell_type": "markdown",
   "metadata": {},
   "source": [
    "### EOG and ECG artefact repair\n",
    "\n",
    "First visualise the artifacts to repair "
   ]
  },
  {
   "cell_type": "code",
   "execution_count": null,
   "metadata": {},
   "outputs": [],
   "source": [
    "# pick some channels that clearly show heartbeats and blinks\n",
    "regexp = r'(MEG [12][45][123]1|EEG 00.)'\n",
    "artifact_picks = mne.pick_channels_regexp(raw.ch_names, regexp=regexp)\n",
    "raw.plot(order=artifact_picks, n_channels=len(artifact_picks),\n",
    "         show_scrollbars=False)"
   ]
  },
  {
   "cell_type": "code",
   "execution_count": null,
   "metadata": {},
   "outputs": [],
   "source": [
    "# get a summary of how the eog (ocular) artefact manifests acrros channel types by creating eog epochs and \n",
    "eog_epochs = create_eog_epochs(raw).average()\n",
    "eog_epochs.apply_baseline(baseline =(None, -0.2))\n",
    "eog_epochs.plot_joint()"
   ]
  },
  {
   "cell_type": "code",
   "execution_count": null,
   "metadata": {},
   "outputs": [],
   "source": [
    "# get a summary of how the ecg (hartbeat) artefact manifests acrros channel types by creating ecg epochs and \n",
    "ecg_epochs = create_ecg_epochs(raw).average()\n",
    "ecg_epochs.apply_baseline(baseline =(None, -0.2))\n",
    "ecg_epochs.plot_joint()"
   ]
  },
  {
   "cell_type": "markdown",
   "metadata": {},
   "source": [
    "#### before running the ICA filter the data to remove low-frequency drifts which can negatively affect the fit of the ICA algorithm"
   ]
  },
  {
   "cell_type": "code",
   "execution_count": null,
   "metadata": {},
   "outputs": [],
   "source": [
    "# lowpass filter the data to remove slow drifts\n",
    "filter_raw = raw.copy() # create a copy of the raw data\n",
    "filter_raw.load_data().filter(l_freq=1., h_freq=None) # add the copy to memory and apply low_freq filtering "
   ]
  },
  {
   "cell_type": "markdown",
   "metadata": {},
   "source": [
    "### Fit ICA algorithm "
   ]
  },
  {
   "cell_type": "code",
   "execution_count": null,
   "metadata": {},
   "outputs": [],
   "source": [
    "ica = ICA(n_components=20, random_state=97) # i think 20 components are good for this dataset\n",
    "ica.fit(filter_raw)"
   ]
  },
  {
   "cell_type": "code",
   "execution_count": null,
   "metadata": {},
   "outputs": [],
   "source": [
    "# Look at the ICs to see what the have captured (we can use the original unfiltered raw here):\n",
    "raw.load_data()\n",
    "ica.plot_sources(raw, show_scrollbars=False)"
   ]
  },
  {
   "cell_type": "code",
   "execution_count": null,
   "metadata": {},
   "outputs": [],
   "source": [
    "# plot the components on topomaps \n",
    "ica.plot_components() \n",
    "\n",
    "# or plot the raw (ica trainned) data to see differences\n",
    "ica.plot_components(inst=filter_raw)"
   ]
  },
  {
   "cell_type": "markdown",
   "metadata": {},
   "source": [
    "It is obvious from the ica sources plot that the first component captures the blinks pretty well and the second captures the heartbeats. But let's take a closer look:"
   ]
  },
  {
   "cell_type": "code",
   "execution_count": null,
   "metadata": {},
   "outputs": [],
   "source": [
    "# First plot an overlay of the original signal against the reconstructed signal excluding the artefacts: \n",
    "# for blinks:\n",
    "ica.plot_overlay(raw, exclude=[0], picks='eeg')\n",
    "\n",
    "# for heartbeats \n",
    "ica.plot_overlay(raw, exclude=[1], picks='mag')"
   ]
  },
  {
   "cell_type": "code",
   "execution_count": null,
   "metadata": {},
   "outputs": [],
   "source": [
    "# plot diagnostics of the bad components\n",
    "ica.plot_properties(raw, picks=[0,1])"
   ]
  },
  {
   "cell_type": "code",
   "execution_count": null,
   "metadata": {},
   "outputs": [],
   "source": [
    "# exclude the bad components and plot the IC data again\n",
    "ica.exclude = [0,1] # blinks and heartbeats components \n",
    "\n",
    "# reconstruct the raw using ica.apply() and plot side by side with raw\n",
    "reconstr_raw = raw.copy() # first make a copy \n",
    "ica.apply(reconstr_raw)\n",
    "\n",
    "# plot raw\n",
    "raw.plot(order=artifact_picks, n_channels=len(artifact_picks),\n",
    "        show_scrollbars=False)\n",
    "\n",
    "# plot reconstructed\n",
    "reconstr_raw.plot(order=artifact_picks, n_channels=len(artifact_picks),\n",
    "                 show_scrollbars=False)"
   ]
  },
  {
   "cell_type": "code",
   "execution_count": null,
   "metadata": {},
   "outputs": [],
   "source": []
  }
 ],
 "metadata": {
  "kernelspec": {
   "display_name": "Python 3",
   "language": "python",
   "name": "python3"
  },
  "language_info": {
   "codemirror_mode": {
    "name": "ipython",
    "version": 3
   },
   "file_extension": ".py",
   "mimetype": "text/x-python",
   "name": "python",
   "nbconvert_exporter": "python",
   "pygments_lexer": "ipython3",
   "version": "3.7.7"
  }
 },
 "nbformat": 4,
 "nbformat_minor": 4
}
