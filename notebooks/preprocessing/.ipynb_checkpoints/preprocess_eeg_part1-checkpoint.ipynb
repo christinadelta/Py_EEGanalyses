{
 "cells": [
  {
   "cell_type": "code",
   "execution_count": null,
   "metadata": {},
   "outputs": [],
   "source": [
    "# import libraries \n",
    "import os\n",
    "import numpy as np\n",
    "import matplotlib.pyplot as plt\n",
    "import mne\n",
    "\n",
    "%matplotlib inline"
   ]
  },
  {
   "cell_type": "code",
   "execution_count": null,
   "metadata": {},
   "outputs": [],
   "source": [
    "# load the data \n",
    "\n",
    "sample_data_folder = '/Users/christinadelta/datasets/eeg_testing_data'\n",
    "sample_data_raw_file = os.path.join(sample_data_folder, 'MEG', 'sample',\n",
    "                                    'sample_audvis_raw.fif')\n",
    "raw = mne.io.read_raw_fif(sample_data_raw_file, preload=True)\n",
    "\n",
    "# raw.crop(0, 60).load_data() # we'll use the 60 sec of the data for now and load to memory\n",
    "\n",
    "# load events\n",
    "events_file = os.path.join(sample_data_folder, 'MEG', 'sample',\n",
    "                                       'sample_audvis_raw-eve.fif')\n",
    "events = mne.read_events(events_file)"
   ]
  },
  {
   "cell_type": "markdown",
   "metadata": {},
   "source": [
    "### Artefact detection and removal\n",
    "\n",
    "There are 3 things we can do with artifacts detected in the M/EEG signal:\n",
    "* ignore it and run analysis\n",
    "* crop the artifact and run analysis\n",
    "* repair signal in the **infected** portion of the signal and run analysis. This is done by suppressing the artifactual part and leaving the signal of interest intact\n",
    "\n",
    "#### First step is to detect the artefact"
   ]
  },
  {
   "cell_type": "code",
   "execution_count": null,
   "metadata": {},
   "outputs": [],
   "source": [
    "# first remove projectors (from the sample data) to inspect data in the original form\n",
    "ssp_projectors = raw.info['projs']\n",
    "raw.del_proj()"
   ]
  },
  {
   "cell_type": "code",
   "execution_count": null,
   "metadata": {},
   "outputs": [],
   "source": [
    "# low frequency drifts are easily detected with visual inspection \n",
    "mag_channels = mne.pick_types(raw.info, meg='mag') # show all the magnetometer channels \n",
    "raw.plot(duration = 60, order= mag_channels, n_channels=len(mag_channels), remove_dc=False)"
   ]
  },
  {
   "cell_type": "code",
   "execution_count": null,
   "metadata": {},
   "outputs": [],
   "source": [
    "# inspect powerline noise using the psd plot\n",
    "fig= raw.plot_psd(tmax=np.inf, fmax=250, average=True)"
   ]
  },
  {
   "cell_type": "markdown",
   "metadata": {},
   "source": [
    "Clear noise at 60, 120 and 180 Hz (also at 240Hz). \n",
    "\n",
    "#### Inspect heartbeat artefacts"
   ]
  },
  {
   "cell_type": "code",
   "execution_count": null,
   "metadata": {},
   "outputs": [],
   "source": [
    "# use the mne.preprocessing module to find and remove ecg artefacts\n",
    "ecg_epochs = mne.preprocessing.create_ecg_epochs(raw)\n",
    "\n",
    "ecg_epochs.plot_image(combine='mean') "
   ]
  },
  {
   "cell_type": "markdown",
   "metadata": {},
   "source": [
    "The horizontal streaks int he magnetometer image plot reflect the heartbeat artefact in superimposed low-frequency drifts. To avoid this apply baseline:"
   ]
  },
  {
   "cell_type": "code",
   "execution_count": null,
   "metadata": {},
   "outputs": [],
   "source": [
    "avg_ecg_epochs = ecg_epochs.average().apply_baseline((-0.5, -0.2))\n",
    "\n",
    "# visualise spatial pattern \n",
    "avg_ecg_epochs.plot_topomap(times=np.linspace(-0.05, 0.05, 11))"
   ]
  },
  {
   "cell_type": "code",
   "execution_count": null,
   "metadata": {},
   "outputs": [],
   "source": [
    "# get an erp plot by providing the times for scalp field maps manually \n",
    "avg_ecg_epochs.plot_joint(times=[-0.25, -0.025, 0, 0.025, 0.25])\n",
    "\n",
    "# or leaving times blank. times will be choosen automatically based on peaks in the signal \n",
    "avg_ecg_epochs.plot_joint()"
   ]
  },
  {
   "cell_type": "markdown",
   "metadata": {},
   "source": [
    "#### Detection of ocular artifacts (eog)\n",
    "\n",
    "To detect eog artifacts use use the ```mne.preprocessing.create_eog_epochs``` function"
   ]
  },
  {
   "cell_type": "code",
   "execution_count": null,
   "metadata": {},
   "outputs": [],
   "source": [
    "eog_epochs = mne.preprocessing.create_eog_epochs(raw, baseline=(-0.5, -0.2))\n",
    "eog_epochs.plot_image(combine='mean')\n",
    "eog_epochs.average().plot_joint()"
   ]
  },
  {
   "cell_type": "markdown",
   "metadata": {},
   "source": [
    "### Interpolate bad channels \n",
    "\n",
    "Bad channels can be stored in a list of bad cahnnels in the Raw info object. "
   ]
  },
  {
   "cell_type": "code",
   "execution_count": null,
   "metadata": {},
   "outputs": [],
   "source": [
    "print(raw.info['bads']) # two bad channels "
   ]
  },
  {
   "cell_type": "code",
   "execution_count": null,
   "metadata": {},
   "outputs": [],
   "source": [
    "# take a look at the bad EEG channels:\n",
    "picks = mne.pick_channels_regexp(raw.ch_names, regexp='EEG 05.')\n",
    "\n",
    "raw.plot(order=picks, n_channels = len(picks)) "
   ]
  },
  {
   "cell_type": "code",
   "execution_count": null,
   "metadata": {},
   "outputs": [],
   "source": [
    "# and also look at the bad MEG channel\n",
    "picks = mne.pick_channels_regexp(raw.ch_names, regexp='MEG 2..3')\n",
    "raw.plot(order=picks, n_channels=len(picks))"
   ]
  },
  {
   "cell_type": "markdown",
   "metadata": {},
   "source": [
    "#### interpolate the two bad channels \n",
    "\n",
    "This can be done using the ```interpolate_bads()``` method. "
   ]
  },
  {
   "cell_type": "code",
   "execution_count": null,
   "metadata": {},
   "outputs": [],
   "source": [
    "# choose data channels (meg, or eeg?)\n",
    "eeg_data = raw.copy().pick_types(meg=False, eeg=True, exclude=[])\n",
    "eeg_interpolate = eeg_data.copy().interpolate_bads(reset_bads=False) # to plot the data before and after interpolation\n",
    "# eeg_interpolate = eeg_data.copy().interpolate_bads(reset_bads=True) "
   ]
  },
  {
   "cell_type": "code",
   "execution_count": null,
   "metadata": {},
   "outputs": [],
   "source": [
    "# plot the original and interpolated eeg \n",
    "for title, data in zip(['original', 'interpolated'], [eeg_data, eeg_interpolate]):\n",
    "    fig = data.plot(butterfly=True, color='#00000022', bad_color='r')\n",
    "    fig.subplots_adjust(top=0.9)\n",
    "    fig.suptitle(title, size='xx-large', weight='bold')"
   ]
  },
  {
   "cell_type": "markdown",
   "metadata": {},
   "source": [
    "### Reject bad data\n",
    "\n",
    "#### Annotate bad data and reject data\n",
    "\n",
    "to reject by annotation parameter use the interactive raw.plot()"
   ]
  },
  {
   "cell_type": "code",
   "execution_count": null,
   "metadata": {},
   "outputs": [],
   "source": [
    "# plot only the eeg data (in case we have meg and eeg)\n",
    "eeg_picks = mne.pick_types(raw.info, meg=False, eeg=True)\n",
    "fig = raw.plot(order=eeg_picks)\n",
    "fig.canvas.key_press_event('a') # this is done manually "
   ]
  },
  {
   "cell_type": "markdown",
   "metadata": {},
   "source": [
    "I love creating annotations manually. This is only done using ipython (wont work on this notebok). In the annotations window create all the annotations (they better start with bad_ because MNE detects tehm and deletes those parts automatically) and then click on the annotation of interest, and int he eeg plot click on the part of the signal that you want to annotate. \n",
    "\n",
    "To remove an annotation just click on it (with 2 fingers on mousepad, for macbook)"
   ]
  },
  {
   "cell_type": "code",
   "execution_count": null,
   "metadata": {},
   "outputs": [],
   "source": [
    "# generate anotations with code\n",
    "# I don't like this method\n",
    "# for blinks\n",
    "eog_events = mne.preprocessing.find_eog_events(raw)\n",
    "onsets = eog_events[:,0]/raw.info['sfreq'] - 0.25\n",
    "durations = [0.5]*len(eog_events)\n",
    "descriptions = ['bad blink'] * len(eog_events)\n",
    "\n",
    "blink_annot = mne.Annotations(onsets, durations, descriptions, orig_time=raw.info['meas_date'])\n",
    "\n",
    "raw.set_annotations(blink_annot)"
   ]
  },
  {
   "cell_type": "code",
   "execution_count": null,
   "metadata": {},
   "outputs": [],
   "source": [
    "# plot eeg only\n",
    "eeg_picks = mne.pick_types(raw.info, meg = False, eeg=True)\n",
    "raw.plot(events=eog_events, order=eeg_picks)"
   ]
  },
  {
   "cell_type": "markdown",
   "metadata": {},
   "source": [
    "#### Reject epochs based on channel amplitude\n",
    "That is, if the signal amplitude exceeds a threshold, remove it by specifying maximum and minimum peak-to-peak amplitudes (flat and reject criteria)"
   ]
  },
  {
   "cell_type": "code",
   "execution_count": null,
   "metadata": {},
   "outputs": [],
   "source": [
    "#specify flat and reject criteria. Note that threshold are different based on device and so on..\n",
    "reject_criteria = dict(mag=3000e-15,     # 3000 fT\n",
    "                       grad=3000e-13,    # 3000 fT/cm\n",
    "                       eeg=100e-6,       # 100 µV\n",
    "                       eog=200e-6)       # 200 µV\n",
    "\n",
    "flat_criteria = dict(mag=1e-15,          # 1 fT\n",
    "                     grad=1e-13,         # 1 fT/cm\n",
    "                     eeg=1e-6)           # 1 µV"
   ]
  },
  {
   "cell_type": "code",
   "execution_count": null,
   "metadata": {},
   "outputs": [],
   "source": [
    "# reject epochs and plot \n",
    "epochs = mne.Epochs(raw, events, tmin=-0.2, tmax=0.5, reject_tmax=0,\n",
    "                    reject=reject_criteria, flat=flat_criteria,\n",
    "                    reject_by_annotation=False, preload=True)\n",
    "\n",
    "#plot\n",
    "epochs.plot_drop_log()"
   ]
  },
  {
   "cell_type": "markdown",
   "metadata": {},
   "source": [
    "reject the epochs with the annotations that were created earlier (in the above rejection we removed only channel \n",
    "threshold citeria)"
   ]
  },
  {
   "cell_type": "code",
   "execution_count": null,
   "metadata": {},
   "outputs": [],
   "source": [
    "epochs = mne.Epochs(raw, events, tmin=-0.2, tmax=0.5, reject_tmax=0,\n",
    "                    reject=reject_criteria, flat=flat_criteria, preload=True)\n",
    "epochs.plot_drop_log()"
   ]
  },
  {
   "cell_type": "markdown",
   "metadata": {},
   "source": [
    "With the annotations + rejection criteria 92 epochs were rejected. Without the annotaions 81 epochs were rejected \n"
   ]
  },
  {
   "cell_type": "code",
   "execution_count": null,
   "metadata": {},
   "outputs": [],
   "source": [
    "# look at the epochs drop log\n",
    "print(epochs.drop_log)"
   ]
  },
  {
   "cell_type": "markdown",
   "metadata": {},
   "source": [
    "### Filter and resample \n",
    "\n",
    "look at the drifts and noise"
   ]
  },
  {
   "cell_type": "code",
   "execution_count": null,
   "metadata": {},
   "outputs": [],
   "source": [
    "eeg_channels = mne.pick_types(raw.info, meg = False, eeg=True)\n",
    "raw.plot(duration=60, order = eeg_channels, proj=False, n_channels=len(eeg_channels), remove_dc=False)"
   ]
  },
  {
   "cell_type": "markdown",
   "metadata": {},
   "source": [
    "Try two different highpass filters of 0.1Hz and 0.2Hz and see which works better"
   ]
  },
  {
   "cell_type": "code",
   "execution_count": null,
   "metadata": {},
   "outputs": [],
   "source": [
    "for cutoff in (0.1, 0.2):\n",
    "    raw_highpass = raw.copy().filter(l_freq=cutoff, h_freq=None)\n",
    "    fig = raw_highpass.plot(duration=60, order=eeg_channels, proj=False,\n",
    "                            n_channels=len(eeg_channels), remove_dc=False)\n",
    "    fig.subplots_adjust(top=0.9)\n",
    "    fig.suptitle('High-pass filtered at {} Hz'.format(cutoff), size='xx-large',\n",
    "                 weight='bold')"
   ]
  },
  {
   "cell_type": "code",
   "execution_count": null,
   "metadata": {},
   "outputs": [],
   "source": [
    "# get the filter parameters (0.2 Hz looks better) \n",
    "filter_params = mne.filter.create_filter(raw.get_data(), raw.info['sfreq'],\n",
    "                                         l_freq=0.2, h_freq=None)\n",
    "\n",
    "mne.viz.plot_filter(filter_params, raw.info['sfreq'], flim=(0.01, 5))"
   ]
  },
  {
   "cell_type": "markdown",
   "metadata": {},
   "source": [
    "### Resample\n",
    "\n",
    "EEG and MEG recordings are notable for their high temporal precision, and are often recorded with sampling rates around 1000 Hz or higher. This is good when precise timing of events is important to the experimental design or analysis plan, but also consumes more memory and computational resources when processing the data. In cases where high-frequency components of the signal are not of interest and precise timing is not needed (e.g., computing EOG or ECG projectors on a long recording), downsampling the signal can be a useful time-saver."
   ]
  },
  {
   "cell_type": "code",
   "execution_count": null,
   "metadata": {},
   "outputs": [],
   "source": [
    "raw_downsampled = raw.copy().resample(sfreq=200)\n",
    "\n",
    "for data, title in zip([raw, raw_downsampled], ['Original', 'Downsampled']):\n",
    "    fig = data.plot_psd(average=True)\n",
    "    fig.subplots_adjust(top=0.9)\n",
    "    fig.suptitle(title)\n",
    "    plt.setp(fig.axes, xlim=(0, 300))"
   ]
  },
  {
   "cell_type": "markdown",
   "metadata": {},
   "source": [
    "To avoid the reduction in temporal precision of events that comes with resampling a Raw object, and also avoid the edge artifacts that come with filtering an Epochs or Evoked object, the best practice is to low-pass filter the Raw data at or below 1/3 of the desired sample rate, then decimate the data after epoching, by either passing the decim parameter to the Epochs constructor, or using the decimate() method after the Epochs have been created."
   ]
  },
  {
   "cell_type": "code",
   "execution_count": null,
   "metadata": {},
   "outputs": [],
   "source": [
    "current_sfreq = raw.info['sfreq']\n",
    "desired_sfreq = 90  # Hz\n",
    "decim = np.round(current_sfreq / desired_sfreq).astype(int)\n",
    "obtained_sfreq = current_sfreq / decim\n",
    "lowpass_freq = obtained_sfreq / 3.\n",
    "\n",
    "raw_filtered = raw.copy().filter(l_freq=None, h_freq=lowpass_freq)\n",
    "events = mne.find_events(raw_filtered)\n",
    "epochs = mne.Epochs(raw_filtered, events, decim=decim)\n",
    "\n",
    "print('desired sampling frequency was {} Hz; decim factor of {} yielded an '\n",
    "      'actual sampling frequency of {} Hz.'\n",
    "      .format(desired_sfreq, decim, epochs.info['sfreq']))"
   ]
  },
  {
   "cell_type": "code",
   "execution_count": null,
   "metadata": {},
   "outputs": [],
   "source": []
  }
 ],
 "metadata": {
  "kernelspec": {
   "display_name": "Python 3",
   "language": "python",
   "name": "python3"
  },
  "language_info": {
   "codemirror_mode": {
    "name": "ipython",
    "version": 3
   },
   "file_extension": ".py",
   "mimetype": "text/x-python",
   "name": "python",
   "nbconvert_exporter": "python",
   "pygments_lexer": "ipython3",
   "version": "3.7.7"
  }
 },
 "nbformat": 4,
 "nbformat_minor": 4
}
