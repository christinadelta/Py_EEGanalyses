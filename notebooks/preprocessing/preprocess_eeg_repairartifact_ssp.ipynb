{
 "cells": [
  {
   "cell_type": "code",
   "execution_count": null,
   "metadata": {},
   "outputs": [],
   "source": [
    "# import libraries \n",
    "import os\n",
    "import numpy as np\n",
    "import matplotlib.pyplot as plt\n",
    "import mne\n",
    "from mne.preprocessing import (create_eog_epochs, create_ecg_epochs, compute_proj_ecg, compute_proj_eog)\n",
    "\n",
    "%matplotlib inline"
   ]
  },
  {
   "cell_type": "code",
   "execution_count": null,
   "metadata": {},
   "outputs": [],
   "source": [
    "# load the data \n",
    "\n",
    "sample_data_folder = '/Users/christinadelta/datasets/eeg_testing_data'\n",
    "sample_data_raw_file = os.path.join(sample_data_folder, 'MEG', 'sample',\n",
    "                                    'sample_audvis_raw.fif')\n",
    "raw = mne.io.read_raw_fif(sample_data_raw_file)\n",
    "# raw = mne.io.read_raw_fif(sample_data_raw_file, preload=True)\n",
    "\n",
    "raw.crop(0, 60).load_data() # we'll use the 60 sec of the data for now and load to memory"
   ]
  },
  {
   "cell_type": "markdown",
   "metadata": {},
   "source": [
    "**SSP projectors are included in this dataset**. This is because the recording system used for this dataset, isolates environmental noise in SSP projectors, this way (reasonably) clean data can be viewed in real-time during acquisition. \n",
    "\n",
    "Empty room recording was also acquired for this dataset. Thus, a new projector will be created "
   ]
  },
  {
   "cell_type": "code",
   "execution_count": null,
   "metadata": {},
   "outputs": [],
   "source": [
    "# first extract the system projector (already ceated)\n",
    "system_proj =raw.info['projs']\n",
    "raw.del_proj()\n",
    "\n",
    "# load empty room recording\n",
    "empty_room_file = os.path.join(sample_data_folder, 'MEG', 'sample',\n",
    "                               'ernoise_raw.fif')\n",
    "empty_room_raw = mne.io.read_raw_fif(empty_room_file)"
   ]
  },
  {
   "cell_type": "code",
   "execution_count": null,
   "metadata": {},
   "outputs": [],
   "source": [
    "# remove the system craeted ssp projectors from the empty room recording (these are created automatically)\n",
    "empty_room_raw.del_proj()"
   ]
  },
  {
   "cell_type": "markdown",
   "metadata": {},
   "source": [
    "### Visualise empty-room noise"
   ]
  },
  {
   "cell_type": "code",
   "execution_count": null,
   "metadata": {},
   "outputs": [],
   "source": [
    "# take a look at the spectrum of the empty-room noise for each sensor separately:\n",
    "for average in (False, True):\n",
    "    empty_room_raw.plot_psd(average=average, dB=False, xscale='log')"
   ]
  },
  {
   "cell_type": "markdown",
   "metadata": {},
   "source": [
    "### Create new projectors using the empty room noise"
   ]
  },
  {
   "cell_type": "code",
   "execution_count": null,
   "metadata": {},
   "outputs": [],
   "source": [
    "empty_room_projs = mne.compute_proj_raw(empty_room_raw, n_grad=3, n_mag=3) # 3 projectors\n",
    "mne.viz.plot_projs_topomap(empty_room_projs, colorbar=True, vlim='joint',\n",
    "                           info=empty_room_raw.info) # colormap is computed jointly for each projector for a given channel type"
   ]
  },
  {
   "cell_type": "markdown",
   "metadata": {},
   "source": [
    "### How do projectors affect the signal?"
   ]
  },
  {
   "cell_type": "code",
   "execution_count": null,
   "metadata": {},
   "outputs": [],
   "source": [
    "# visualise the system-projectors and empty-room projector on the signal:\n",
    "mags = mne.pick_types(raw.info, meg='mag')\n",
    "for title, projs in [('system', system_proj),\n",
    "                     ('subject-specific', empty_room_projs[3:])]:\n",
    "    raw.add_proj(projs, remove_existing=True)\n",
    "    fig = raw.plot(proj=True, order=mags, duration=1, n_channels=2)\n",
    "    fig.subplots_adjust(top=0.9)  # make room for title\n",
    "    fig.suptitle('{} projectors'.format(title), size='xx-large', weight='bold')"
   ]
  },
  {
   "cell_type": "code",
   "execution_count": null,
   "metadata": {},
   "outputs": [],
   "source": []
  }
 ],
 "metadata": {
  "kernelspec": {
   "display_name": "Python 3",
   "language": "python",
   "name": "python3"
  },
  "language_info": {
   "codemirror_mode": {
    "name": "ipython",
    "version": 3
   },
   "file_extension": ".py",
   "mimetype": "text/x-python",
   "name": "python",
   "nbconvert_exporter": "python",
   "pygments_lexer": "ipython3",
   "version": "3.7.7"
  }
 },
 "nbformat": 4,
 "nbformat_minor": 4
}
