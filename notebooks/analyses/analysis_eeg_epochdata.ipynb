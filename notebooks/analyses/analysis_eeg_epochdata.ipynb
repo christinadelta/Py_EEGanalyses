{
 "cells": [
  {
   "cell_type": "code",
   "execution_count": null,
   "metadata": {},
   "outputs": [],
   "source": [
    "# import libraries \n",
    "import os\n",
    "import numpy as np\n",
    "import matplotlib.pyplot as plt\n",
    "import mne\n",
    "\n",
    "%matplotlib inline"
   ]
  },
  {
   "cell_type": "code",
   "execution_count": null,
   "metadata": {},
   "outputs": [],
   "source": [
    "# load the data \n",
    "\n",
    "sample_data_folder = '/Users/christinadelta/datasets/eeg_testing_data'\n",
    "sample_data_raw_file = os.path.join(sample_data_folder, 'MEG', 'sample',\n",
    "                                    'sample_audvis_raw.fif')\n",
    "raw = mne.io.read_raw_fif(sample_data_raw_file, verbose=False, \n",
    "                          preload=True).crop(tmax=60)# we'll use the 60 sec of the data for now\n",
    "# raw = mne.io.read_raw_fif(sample_data_raw_file, preload=True, verbose=False)\n",
    "\n",
    "# load events\n",
    "events_file = os.path.join(sample_data_folder, 'MEG', 'sample',\n",
    "                                       'sample_audvis_raw-eve.fif')\n",
    "events = mne.read_events(events_file)\n",
    "\n",
    "# or using the trigger channel\n",
    "trig_events = mne.find_events(raw, stim_channel='STI 014')"
   ]
  },
  {
   "cell_type": "code",
   "execution_count": null,
   "metadata": {},
   "outputs": [],
   "source": [
    "# to epoch data we need the (filtered) eeg data and events file. This will create an Epochs obejct:\n",
    "# first create an events didct. Note that if this is not passed when epoching, mne will create one automatically\n",
    "events_dict = {'audt/left': 1, 'audt/right': 2, 'vis/left': 3, 'vis/right': 4,\n",
    "              'face': 5, 'resp': 32}\n",
    "epoched = mne.Epochs(raw, events, tmin=-0.3, tmax=0.7, event_id=events_dict,\n",
    "                    preload=True)\n",
    "\n",
    "print(epoched.event_id)\n",
    "del raw # free memory"
   ]
  },
  {
   "cell_type": "code",
   "execution_count": null,
   "metadata": {},
   "outputs": [],
   "source": [
    "# view the dropped epochs to see why epoches were dropped\n",
    "print(epoched.drop_log)"
   ]
  },
  {
   "cell_type": "code",
   "execution_count": null,
   "metadata": {},
   "outputs": [],
   "source": [
    "# visualise epochs\n",
    "# epoched.plot()\n",
    "\n",
    "# or specify smaller portion of the epoched data\n",
    "epoched.plot(n_epochs=10)"
   ]
  },
  {
   "cell_type": "markdown",
   "metadata": {},
   "source": [
    "### selecting epochs"
   ]
  },
  {
   "cell_type": "code",
   "execution_count": null,
   "metadata": {},
   "outputs": [],
   "source": [
    "print(epoched['face'])"
   ]
  },
  {
   "cell_type": "code",
   "execution_count": null,
   "metadata": {},
   "outputs": [],
   "source": [
    "# pool across left and right condition\n",
    "print(epoched['audt'])\n",
    "assert len(epoched['audt']) == (len(epoched['audt/left']) +\n",
    "                                   len(epoched['audt/right']))\n",
    "# pool across auditory and visual\n",
    "print(epoched['left'])\n",
    "assert len(epoched['left']) == (len(epoched['audt/left']) +\n",
    "                               len(epoched['vis/left']))"
   ]
  },
  {
   "cell_type": "code",
   "execution_count": null,
   "metadata": {},
   "outputs": [],
   "source": []
  }
 ],
 "metadata": {
  "kernelspec": {
   "display_name": "Python 3",
   "language": "python",
   "name": "python3"
  },
  "language_info": {
   "codemirror_mode": {
    "name": "ipython",
    "version": 3
   },
   "file_extension": ".py",
   "mimetype": "text/x-python",
   "name": "python",
   "nbconvert_exporter": "python",
   "pygments_lexer": "ipython3",
   "version": "3.7.7"
  }
 },
 "nbformat": 4,
 "nbformat_minor": 4
}
